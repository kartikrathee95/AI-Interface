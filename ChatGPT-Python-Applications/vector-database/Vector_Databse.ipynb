{
  "nbformat": 4,
  "nbformat_minor": 0,
  "metadata": {
    "colab": {
      "provenance": []
    },
    "kernelspec": {
      "name": "python3",
      "display_name": "Python 3"
    },
    "language_info": {
      "name": "python"
    }
  },
  "cells": [
    {
      "cell_type": "code",
      "execution_count": null,
      "metadata": {
        "colab": {
          "base_uri": "https://localhost:8080/"
        },
        "id": "jhG5LrAEXOqE",
        "outputId": "386757d5-8320-45be-fad8-46c4ca3989fa"
      },
      "outputs": [
        {
          "output_type": "stream",
          "name": "stdout",
          "text": [
            "Looking in indexes: https://pypi.org/simple, https://us-python.pkg.dev/colab-wheels/public/simple/\n",
            "Requirement already satisfied: openai in /usr/local/lib/python3.9/dist-packages (0.27.4)\n",
            "Requirement already satisfied: chromadb in /usr/local/lib/python3.9/dist-packages (0.3.21)\n",
            "Requirement already satisfied: langchain in /usr/local/lib/python3.9/dist-packages (0.0.137)\n",
            "Requirement already satisfied: tiktoken in /usr/local/lib/python3.9/dist-packages (0.3.3)\n",
            "Requirement already satisfied: requests>=2.20 in /usr/local/lib/python3.9/dist-packages (from openai) (2.28.2)\n",
            "Requirement already satisfied: tqdm in /usr/local/lib/python3.9/dist-packages (from openai) (4.65.0)\n",
            "Requirement already satisfied: aiohttp in /usr/local/lib/python3.9/dist-packages (from openai) (3.8.4)\n",
            "Requirement already satisfied: sentence-transformers>=2.2.2 in /usr/local/lib/python3.9/dist-packages (from chromadb) (2.2.2)\n",
            "Requirement already satisfied: hnswlib>=0.7 in /usr/local/lib/python3.9/dist-packages (from chromadb) (0.7.0)\n",
            "Requirement already satisfied: pandas>=1.3 in /usr/local/lib/python3.9/dist-packages (from chromadb) (1.5.3)\n",
            "Requirement already satisfied: uvicorn[standard]>=0.18.3 in /usr/local/lib/python3.9/dist-packages (from chromadb) (0.21.1)\n",
            "Requirement already satisfied: numpy>=1.21.6 in /usr/local/lib/python3.9/dist-packages (from chromadb) (1.22.4)\n",
            "Requirement already satisfied: clickhouse-connect>=0.5.7 in /usr/local/lib/python3.9/dist-packages (from chromadb) (0.5.20)\n",
            "Requirement already satisfied: pydantic>=1.9 in /usr/local/lib/python3.9/dist-packages (from chromadb) (1.10.7)\n",
            "Requirement already satisfied: fastapi>=0.85.1 in /usr/local/lib/python3.9/dist-packages (from chromadb) (0.95.0)\n",
            "Requirement already satisfied: posthog>=2.4.0 in /usr/local/lib/python3.9/dist-packages (from chromadb) (2.5.0)\n",
            "Requirement already satisfied: duckdb>=0.7.1 in /usr/local/lib/python3.9/dist-packages (from chromadb) (0.7.1)\n",
            "Requirement already satisfied: async-timeout<5.0.0,>=4.0.0 in /usr/local/lib/python3.9/dist-packages (from langchain) (4.0.2)\n",
            "Requirement already satisfied: tenacity<9.0.0,>=8.1.0 in /usr/local/lib/python3.9/dist-packages (from langchain) (8.2.2)\n",
            "Requirement already satisfied: SQLAlchemy<2,>=1 in /usr/local/lib/python3.9/dist-packages (from langchain) (1.4.47)\n",
            "Requirement already satisfied: openapi-schema-pydantic<2.0,>=1.2 in /usr/local/lib/python3.9/dist-packages (from langchain) (1.2.4)\n",
            "Requirement already satisfied: PyYAML>=5.4.1 in /usr/local/lib/python3.9/dist-packages (from langchain) (6.0)\n",
            "Requirement already satisfied: dataclasses-json<0.6.0,>=0.5.7 in /usr/local/lib/python3.9/dist-packages (from langchain) (0.5.7)\n",
            "Requirement already satisfied: regex>=2022.1.18 in /usr/local/lib/python3.9/dist-packages (from tiktoken) (2022.10.31)\n",
            "Requirement already satisfied: multidict<7.0,>=4.5 in /usr/local/lib/python3.9/dist-packages (from aiohttp->openai) (6.0.4)\n",
            "Requirement already satisfied: charset-normalizer<4.0,>=2.0 in /usr/local/lib/python3.9/dist-packages (from aiohttp->openai) (2.0.12)\n",
            "Requirement already satisfied: aiosignal>=1.1.2 in /usr/local/lib/python3.9/dist-packages (from aiohttp->openai) (1.3.1)\n",
            "Requirement already satisfied: yarl<2.0,>=1.0 in /usr/local/lib/python3.9/dist-packages (from aiohttp->openai) (1.8.2)\n",
            "Requirement already satisfied: frozenlist>=1.1.1 in /usr/local/lib/python3.9/dist-packages (from aiohttp->openai) (1.3.3)\n",
            "Requirement already satisfied: attrs>=17.3.0 in /usr/local/lib/python3.9/dist-packages (from aiohttp->openai) (22.2.0)\n",
            "Requirement already satisfied: urllib3>=1.26 in /usr/local/lib/python3.9/dist-packages (from clickhouse-connect>=0.5.7->chromadb) (1.26.15)\n",
            "Requirement already satisfied: zstandard in /usr/local/lib/python3.9/dist-packages (from clickhouse-connect>=0.5.7->chromadb) (0.20.0)\n",
            "Requirement already satisfied: certifi in /usr/local/lib/python3.9/dist-packages (from clickhouse-connect>=0.5.7->chromadb) (2022.12.7)\n",
            "Requirement already satisfied: lz4 in /usr/local/lib/python3.9/dist-packages (from clickhouse-connect>=0.5.7->chromadb) (4.3.2)\n",
            "Requirement already satisfied: pytz in /usr/local/lib/python3.9/dist-packages (from clickhouse-connect>=0.5.7->chromadb) (2022.7.1)\n",
            "Requirement already satisfied: marshmallow<4.0.0,>=3.3.0 in /usr/local/lib/python3.9/dist-packages (from dataclasses-json<0.6.0,>=0.5.7->langchain) (3.19.0)\n",
            "Requirement already satisfied: typing-inspect>=0.4.0 in /usr/local/lib/python3.9/dist-packages (from dataclasses-json<0.6.0,>=0.5.7->langchain) (0.8.0)\n",
            "Requirement already satisfied: marshmallow-enum<2.0.0,>=1.5.1 in /usr/local/lib/python3.9/dist-packages (from dataclasses-json<0.6.0,>=0.5.7->langchain) (1.5.1)\n",
            "Requirement already satisfied: starlette<0.27.0,>=0.26.1 in /usr/local/lib/python3.9/dist-packages (from fastapi>=0.85.1->chromadb) (0.26.1)\n",
            "Requirement already satisfied: python-dateutil>=2.8.1 in /usr/local/lib/python3.9/dist-packages (from pandas>=1.3->chromadb) (2.8.2)\n",
            "Requirement already satisfied: six>=1.5 in /usr/local/lib/python3.9/dist-packages (from posthog>=2.4.0->chromadb) (1.16.0)\n",
            "Requirement already satisfied: backoff>=1.10.0 in /usr/local/lib/python3.9/dist-packages (from posthog>=2.4.0->chromadb) (2.2.1)\n",
            "Requirement already satisfied: monotonic>=1.5 in /usr/local/lib/python3.9/dist-packages (from posthog>=2.4.0->chromadb) (1.6)\n",
            "Requirement already satisfied: typing-extensions>=4.2.0 in /usr/local/lib/python3.9/dist-packages (from pydantic>=1.9->chromadb) (4.5.0)\n",
            "Requirement already satisfied: idna<4,>=2.5 in /usr/local/lib/python3.9/dist-packages (from requests>=2.20->openai) (3.4)\n",
            "Requirement already satisfied: huggingface-hub>=0.4.0 in /usr/local/lib/python3.9/dist-packages (from sentence-transformers>=2.2.2->chromadb) (0.13.4)\n",
            "Requirement already satisfied: scipy in /usr/local/lib/python3.9/dist-packages (from sentence-transformers>=2.2.2->chromadb) (1.10.1)\n",
            "Requirement already satisfied: nltk in /usr/local/lib/python3.9/dist-packages (from sentence-transformers>=2.2.2->chromadb) (3.8.1)\n",
            "Requirement already satisfied: torch>=1.6.0 in /usr/local/lib/python3.9/dist-packages (from sentence-transformers>=2.2.2->chromadb) (2.0.0+cu118)\n",
            "Requirement already satisfied: transformers<5.0.0,>=4.6.0 in /usr/local/lib/python3.9/dist-packages (from sentence-transformers>=2.2.2->chromadb) (4.27.4)\n",
            "Requirement already satisfied: sentencepiece in /usr/local/lib/python3.9/dist-packages (from sentence-transformers>=2.2.2->chromadb) (0.1.98)\n",
            "Requirement already satisfied: torchvision in /usr/local/lib/python3.9/dist-packages (from sentence-transformers>=2.2.2->chromadb) (0.15.1+cu118)\n",
            "Requirement already satisfied: scikit-learn in /usr/local/lib/python3.9/dist-packages (from sentence-transformers>=2.2.2->chromadb) (1.2.2)\n",
            "Requirement already satisfied: greenlet!=0.4.17 in /usr/local/lib/python3.9/dist-packages (from SQLAlchemy<2,>=1->langchain) (2.0.2)\n",
            "Requirement already satisfied: click>=7.0 in /usr/local/lib/python3.9/dist-packages (from uvicorn[standard]>=0.18.3->chromadb) (8.1.3)\n",
            "Requirement already satisfied: h11>=0.8 in /usr/local/lib/python3.9/dist-packages (from uvicorn[standard]>=0.18.3->chromadb) (0.14.0)\n",
            "Requirement already satisfied: websockets>=10.4 in /usr/local/lib/python3.9/dist-packages (from uvicorn[standard]>=0.18.3->chromadb) (11.0.1)\n",
            "Requirement already satisfied: python-dotenv>=0.13 in /usr/local/lib/python3.9/dist-packages (from uvicorn[standard]>=0.18.3->chromadb) (1.0.0)\n",
            "Requirement already satisfied: httptools>=0.5.0 in /usr/local/lib/python3.9/dist-packages (from uvicorn[standard]>=0.18.3->chromadb) (0.5.0)\n",
            "Requirement already satisfied: uvloop!=0.15.0,!=0.15.1,>=0.14.0 in /usr/local/lib/python3.9/dist-packages (from uvicorn[standard]>=0.18.3->chromadb) (0.17.0)\n",
            "Requirement already satisfied: watchfiles>=0.13 in /usr/local/lib/python3.9/dist-packages (from uvicorn[standard]>=0.18.3->chromadb) (0.19.0)\n",
            "Requirement already satisfied: filelock in /usr/local/lib/python3.9/dist-packages (from huggingface-hub>=0.4.0->sentence-transformers>=2.2.2->chromadb) (3.11.0)\n",
            "Requirement already satisfied: packaging>=20.9 in /usr/local/lib/python3.9/dist-packages (from huggingface-hub>=0.4.0->sentence-transformers>=2.2.2->chromadb) (23.0)\n",
            "Requirement already satisfied: anyio<5,>=3.4.0 in /usr/local/lib/python3.9/dist-packages (from starlette<0.27.0,>=0.26.1->fastapi>=0.85.1->chromadb) (3.6.2)\n",
            "Requirement already satisfied: sympy in /usr/local/lib/python3.9/dist-packages (from torch>=1.6.0->sentence-transformers>=2.2.2->chromadb) (1.11.1)\n",
            "Requirement already satisfied: networkx in /usr/local/lib/python3.9/dist-packages (from torch>=1.6.0->sentence-transformers>=2.2.2->chromadb) (3.1)\n",
            "Requirement already satisfied: triton==2.0.0 in /usr/local/lib/python3.9/dist-packages (from torch>=1.6.0->sentence-transformers>=2.2.2->chromadb) (2.0.0)\n",
            "Requirement already satisfied: jinja2 in /usr/local/lib/python3.9/dist-packages (from torch>=1.6.0->sentence-transformers>=2.2.2->chromadb) (3.1.2)\n",
            "Requirement already satisfied: cmake in /usr/local/lib/python3.9/dist-packages (from triton==2.0.0->torch>=1.6.0->sentence-transformers>=2.2.2->chromadb) (3.25.2)\n",
            "Requirement already satisfied: lit in /usr/local/lib/python3.9/dist-packages (from triton==2.0.0->torch>=1.6.0->sentence-transformers>=2.2.2->chromadb) (16.0.0)\n",
            "Requirement already satisfied: tokenizers!=0.11.3,<0.14,>=0.11.1 in /usr/local/lib/python3.9/dist-packages (from transformers<5.0.0,>=4.6.0->sentence-transformers>=2.2.2->chromadb) (0.13.3)\n",
            "Requirement already satisfied: mypy-extensions>=0.3.0 in /usr/local/lib/python3.9/dist-packages (from typing-inspect>=0.4.0->dataclasses-json<0.6.0,>=0.5.7->langchain) (1.0.0)\n",
            "Requirement already satisfied: joblib in /usr/local/lib/python3.9/dist-packages (from nltk->sentence-transformers>=2.2.2->chromadb) (1.2.0)\n",
            "Requirement already satisfied: threadpoolctl>=2.0.0 in /usr/local/lib/python3.9/dist-packages (from scikit-learn->sentence-transformers>=2.2.2->chromadb) (3.1.0)\n",
            "Requirement already satisfied: pillow!=8.3.*,>=5.3.0 in /usr/local/lib/python3.9/dist-packages (from torchvision->sentence-transformers>=2.2.2->chromadb) (8.4.0)\n",
            "Requirement already satisfied: sniffio>=1.1 in /usr/local/lib/python3.9/dist-packages (from anyio<5,>=3.4.0->starlette<0.27.0,>=0.26.1->fastapi>=0.85.1->chromadb) (1.3.0)\n",
            "Requirement already satisfied: MarkupSafe>=2.0 in /usr/local/lib/python3.9/dist-packages (from jinja2->torch>=1.6.0->sentence-transformers>=2.2.2->chromadb) (2.1.2)\n",
            "Requirement already satisfied: mpmath>=0.19 in /usr/local/lib/python3.9/dist-packages (from sympy->torch>=1.6.0->sentence-transformers>=2.2.2->chromadb) (1.3.0)\n"
          ]
        }
      ],
      "source": [
        "!pip install openai chromadb langchain tiktoken"
      ]
    },
    {
      "cell_type": "code",
      "source": [
        "import os\n",
        "import platform\n",
        "\n",
        "import openai\n",
        "import chromadb\n",
        "import langchain\n",
        "\n",
        "from langchain.embeddings.openai import OpenAIEmbeddings\n",
        "from langchain.vectorstores import Chroma\n",
        "from langchain.text_splitter import TokenTextSplitter\n",
        "from langchain.llms import OpenAI\n",
        "from langchain.chains import ChatVectorDBChain\n",
        "from langchain.document_loaders import GutenbergLoader\n",
        "\n",
        "print('Python: ', platform.python_version())"
      ],
      "metadata": {
        "colab": {
          "base_uri": "https://localhost:8080/"
        },
        "id": "6Ax08qxkXUn5",
        "outputId": "a6f642a2-4071-4c6c-c9e1-ec612e43f4fc"
      },
      "execution_count": null,
      "outputs": [
        {
          "output_type": "stream",
          "name": "stdout",
          "text": [
            "Python:  3.9.16\n"
          ]
        }
      ]
    },
    {
      "cell_type": "code",
      "source": [
        "from langchain.chains import ConversationalRetrievalChain\n",
        "from langchain.chat_models import ChatOpenAI"
      ],
      "metadata": {
        "id": "WYLaUNDO0nh7"
      },
      "execution_count": null,
      "outputs": []
    },
    {
      "cell_type": "code",
      "source": [
        "from google.colab import drive\n",
        "drive.mount('/content/drive')"
      ],
      "metadata": {
        "colab": {
          "base_uri": "https://localhost:8080/"
        },
        "id": "KSU0MbXAX_Rq",
        "outputId": "bee0cbb1-935d-4ec0-9e18-17d94c1cd81c"
      },
      "execution_count": null,
      "outputs": [
        {
          "output_type": "stream",
          "name": "stdout",
          "text": [
            "Drive already mounted at /content/drive; to attempt to forcibly remount, call drive.mount(\"/content/drive\", force_remount=True).\n"
          ]
        }
      ]
    },
    {
      "cell_type": "code",
      "source": [
        "os.environ[\"OPENAI_API_KEY\"] = 'sk-**********************************'"
      ],
      "metadata": {
        "id": "ptWdfLWeYGjv"
      },
      "execution_count": null,
      "outputs": []
    },
    {
      "cell_type": "code",
      "source": [
        "persist_directory=\"/content/drive/My Drive/Colab Notebooks/chroma/romeo\""
      ],
      "metadata": {
        "id": "3e0rIjpcYdmK"
      },
      "execution_count": null,
      "outputs": []
    },
    {
      "cell_type": "code",
      "source": [
        "def get_gutenberg(url):\n",
        "    loader = GutenbergLoader(url)\n",
        "    data = loader.load()\n",
        "    return data"
      ],
      "metadata": {
        "id": "PGGl3FVdYeNv"
      },
      "execution_count": null,
      "outputs": []
    },
    {
      "cell_type": "code",
      "source": [
        "romeoandjuliet_data = get_gutenberg('https://www.gutenberg.org/cache/epub/1513/pg1513.txt')\n",
        "\n",
        "text_splitter = TokenTextSplitter(chunk_size=1000, chunk_overlap=0)\n",
        "romeoandjuliet_doc = text_splitter.split_documents(romeoandjuliet_data)\n",
        "\n",
        "embeddings = OpenAIEmbeddings()\n",
        "vectordb = Chroma.from_documents(romeoandjuliet_doc, embeddings, persist_directory=persist_directory)\n",
        "vectordb.persist()"
      ],
      "metadata": {
        "colab": {
          "base_uri": "https://localhost:8080/"
        },
        "id": "oMrFzKc4aM-r",
        "outputId": "e7559e12-c756-4b6a-e636-3caac5954656"
      },
      "execution_count": null,
      "outputs": [
        {
          "output_type": "stream",
          "name": "stderr",
          "text": [
            "WARNING:chromadb:Using embedded DuckDB with persistence: data will be stored in: /content/drive/My Drive/Colab Notebooks/chroma/romeo\n"
          ]
        }
      ]
    },
    {
      "cell_type": "code",
      "source": [
        "romeoandjuliet_qa = ChatVectorDBChain.from_llm(OpenAI(temperature=0, model_name=\"gpt-3.5-turbo\"), vectordb, return_source_documents=True)"
      ],
      "metadata": {
        "colab": {
          "base_uri": "https://localhost:8080/"
        },
        "id": "xmQB0e-KaRcf",
        "outputId": "49692a55-d635-437e-ea25-35f8b326dc44"
      },
      "execution_count": null,
      "outputs": [
        {
          "output_type": "stream",
          "name": "stderr",
          "text": [
            "/usr/local/lib/python3.9/dist-packages/langchain/llms/openai.py:170: UserWarning: You are trying to use a chat model. This way of initializing it is no longer supported. Instead, please use: `from langchain.chat_models import ChatOpenAI`\n",
            "  warnings.warn(\n",
            "/usr/local/lib/python3.9/dist-packages/langchain/llms/openai.py:624: UserWarning: You are trying to use a chat model. This way of initializing it is no longer supported. Instead, please use: `from langchain.chat_models import ChatOpenAI`\n",
            "  warnings.warn(\n",
            "/usr/local/lib/python3.9/dist-packages/langchain/chains/conversational_retrieval/base.py:191: UserWarning: `ChatVectorDBChain` is deprecated - please use `from langchain.chains import ConversationalRetrievalChain`\n",
            "  warnings.warn(\n"
          ]
        }
      ]
    },
    {
      "cell_type": "code",
      "source": [
        "chat_history = [(\"Romeo and Juliet\",\"Romeo and Juliet\")]"
      ],
      "metadata": {
        "id": "8mu7rUqOwqNc"
      },
      "execution_count": null,
      "outputs": []
    },
    {
      "cell_type": "code",
      "source": [
        "query = \"Have Romeo and Juliet spent the night together? Provide a verbose answer, referencing passages from the book.\"\n",
        "result = romeoandjuliet_qa({\"question\": query, \"chat_history\": chat_history})"
      ],
      "metadata": {
        "id": "iQTxM20oaj_Y"
      },
      "execution_count": null,
      "outputs": []
    },
    {
      "cell_type": "code",
      "source": [
        "result[\"source_documents\"]"
      ],
      "metadata": {
        "id": "5H8vuQpAatQe",
        "colab": {
          "base_uri": "https://localhost:8080/"
        },
        "outputId": "a4151650-05c2-45ca-f498-ad4ee9f2a724"
      },
      "execution_count": null,
      "outputs": [
        {
          "output_type": "execute_result",
          "data": {
            "text/plain": [
              "[Document(page_content='\\n\\n\\n\\r\\n\\n\\nROMEO.\\r\\n\\n\\nYet banished? Hang up philosophy.\\r\\n\\n\\nUnless philosophy can make a Juliet,\\r\\n\\n\\nDisplant a town, reverse a Prince’s doom,\\r\\n\\n\\nIt helps not, it prevails not, talk no more.\\r\\n\\n\\n\\r\\n\\n\\nFRIAR LAWRENCE.\\r\\n\\n\\nO, then I see that mad men have no ears.\\r\\n\\n\\n\\r\\n\\n\\nROMEO.\\r\\n\\n\\nHow should they, when that wise men have no eyes?\\r\\n\\n\\n\\r\\n\\n\\nFRIAR LAWRENCE.\\r\\n\\n\\nLet me dispute with thee of thy estate.\\r\\n\\n\\n\\r\\n\\n\\nROMEO.\\r\\n\\n\\nThou canst not speak of that thou dost not feel.\\r\\n\\n\\nWert thou as young as I, Juliet thy love,\\r\\n\\n\\nAn hour but married, Tybalt murdered,\\r\\n\\n\\nDoting like me, and like me banished,\\r\\n\\n\\nThen mightst thou speak, then mightst thou tear thy hair,\\r\\n\\n\\nAnd fall upon the ground as I do now,\\r\\n\\n\\nTaking the measure of an unmade grave.\\r\\n\\n\\n\\r\\n\\n\\n [_Knocking within._]\\r\\n\\n\\n\\r\\n\\n\\nFRIAR LAWRENCE.\\r\\n\\n\\nArise; one knocks. Good Romeo, hide thyself.\\r\\n\\n\\n\\r\\n\\n\\nROMEO.\\r\\n\\n\\nNot I, unless the breath of heartsick groans\\r\\n\\n\\nMist-like infold me from the search of eyes.\\r\\n\\n\\n\\r\\n\\n\\n [_Knocking._]\\r\\n\\n\\n\\r\\n\\n\\nFRIAR LAWRENCE.\\r\\n\\n\\nHark, how they knock!—Who’s there?—Romeo, arise,\\r\\n\\n\\nThou wilt be taken.—Stay awhile.—Stand up.\\r\\n\\n\\n\\r\\n\\n\\n [_Knocking._]\\r\\n\\n\\n\\r\\n\\n\\nRun to my study.—By-and-by.—God’s will,\\r\\n\\n\\nWhat simpleness is this.—I come, I come.\\r\\n\\n\\n\\r\\n\\n\\n [_Knocking._]\\r\\n\\n\\n\\r\\n\\n\\nWho knocks so hard? Whence come you, what’s your will?\\r\\n\\n\\n\\r\\n\\n\\nNURSE.\\r\\n\\n\\n[_Within._] Let me come in, and you shall know my errand.\\r\\n\\n\\nI come from Lady Juliet.\\r\\n\\n\\n\\r\\n\\n\\nFRIAR LAWRENCE.\\r\\n\\n\\nWelcome then.\\r\\n\\n\\n\\r\\n\\n\\n Enter Nurse.\\r\\n\\n\\n\\r\\n\\n\\nNURSE.\\r\\n\\n\\nO holy Friar, O, tell me, holy Friar,\\r\\n\\n\\nWhere is my lady’s lord, where’s Romeo?\\r\\n\\n\\n\\r\\n\\n\\nFRIAR LAWRENCE.\\r\\n\\n\\nThere on the ground, with his own tears made drunk.\\r\\n\\n\\n\\r\\n\\n\\nNURSE.\\r\\n\\n\\nO, he is even in my mistress’ case.\\r\\n\\n\\nJust in her case! O woeful sympathy!\\r\\n\\n\\nPiteous predicament. Even so lies she,\\r\\n\\n\\nBlubbering and weeping, weeping and blubbering.\\r\\n\\n\\nStand up, stand up; stand, and you be a man.\\r\\n\\n\\nFor Juliet’s sake, for her sake, rise and stand.\\r\\n\\n\\nWhy should you fall into so deep an O?\\r\\n\\n\\n\\r\\n\\n\\nROMEO.\\r\\n\\n\\nNurse.\\r\\n\\n\\n\\r\\n\\n\\nNURSE.\\r\\n\\n\\nAh sir, ah sir, death’s the end of all.\\r\\n\\n\\n\\r\\n\\n\\nROMEO.\\r\\n\\n\\nSpakest thou of Juliet? How is it with her?\\r\\n\\n\\nDoth not she think me an old murderer,\\r\\n\\n\\nNow I have stain’d the childhood of our joy\\r\\n\\n\\nWith blood remov’d but little from her own?\\r\\n\\n\\nWhere is she? And how doth she? And what says\\r\\n\\n\\nMy conceal’d lady to our cancell’d love?\\r\\n\\n\\n\\r\\n\\n\\nNURSE.\\r\\n\\n\\nO, she says nothing, sir, but weeps and weeps;\\r\\n\\n\\nAnd now falls on her bed, and then starts up,\\r\\n\\n\\nAnd Tybalt calls, and then on Romeo cries,\\r\\n\\n\\nAnd then down falls again.\\r\\n\\n\\n\\r\\n\\n\\nROMEO.\\r\\n\\n\\nAs if that name,\\r\\n\\n\\nShot from the deadly level of a gun,\\r\\n\\n\\nDid murder her, as that name’s cursed hand\\r\\n\\n\\nMurder’d her kinsman.', metadata={'source': 'https://www.gutenberg.org/cache/epub/1513/pg1513.txt'}),\n",
              " Document(page_content='\\n\\n\\n\\r\\n\\n\\nROMEO.\\r\\n\\n\\nYet banished? Hang up philosophy.\\r\\n\\n\\nUnless philosophy can make a Juliet,\\r\\n\\n\\nDisplant a town, reverse a Prince’s doom,\\r\\n\\n\\nIt helps not, it prevails not, talk no more.\\r\\n\\n\\n\\r\\n\\n\\nFRIAR LAWRENCE.\\r\\n\\n\\nO, then I see that mad men have no ears.\\r\\n\\n\\n\\r\\n\\n\\nROMEO.\\r\\n\\n\\nHow should they, when that wise men have no eyes?\\r\\n\\n\\n\\r\\n\\n\\nFRIAR LAWRENCE.\\r\\n\\n\\nLet me dispute with thee of thy estate.\\r\\n\\n\\n\\r\\n\\n\\nROMEO.\\r\\n\\n\\nThou canst not speak of that thou dost not feel.\\r\\n\\n\\nWert thou as young as I, Juliet thy love,\\r\\n\\n\\nAn hour but married, Tybalt murdered,\\r\\n\\n\\nDoting like me, and like me banished,\\r\\n\\n\\nThen mightst thou speak, then mightst thou tear thy hair,\\r\\n\\n\\nAnd fall upon the ground as I do now,\\r\\n\\n\\nTaking the measure of an unmade grave.\\r\\n\\n\\n\\r\\n\\n\\n [_Knocking within._]\\r\\n\\n\\n\\r\\n\\n\\nFRIAR LAWRENCE.\\r\\n\\n\\nArise; one knocks. Good Romeo, hide thyself.\\r\\n\\n\\n\\r\\n\\n\\nROMEO.\\r\\n\\n\\nNot I, unless the breath of heartsick groans\\r\\n\\n\\nMist-like infold me from the search of eyes.\\r\\n\\n\\n\\r\\n\\n\\n [_Knocking._]\\r\\n\\n\\n\\r\\n\\n\\nFRIAR LAWRENCE.\\r\\n\\n\\nHark, how they knock!—Who’s there?—Romeo, arise,\\r\\n\\n\\nThou wilt be taken.—Stay awhile.—Stand up.\\r\\n\\n\\n\\r\\n\\n\\n [_Knocking._]\\r\\n\\n\\n\\r\\n\\n\\nRun to my study.—By-and-by.—God’s will,\\r\\n\\n\\nWhat simpleness is this.—I come, I come.\\r\\n\\n\\n\\r\\n\\n\\n [_Knocking._]\\r\\n\\n\\n\\r\\n\\n\\nWho knocks so hard? Whence come you, what’s your will?\\r\\n\\n\\n\\r\\n\\n\\nNURSE.\\r\\n\\n\\n[_Within._] Let me come in, and you shall know my errand.\\r\\n\\n\\nI come from Lady Juliet.\\r\\n\\n\\n\\r\\n\\n\\nFRIAR LAWRENCE.\\r\\n\\n\\nWelcome then.\\r\\n\\n\\n\\r\\n\\n\\n Enter Nurse.\\r\\n\\n\\n\\r\\n\\n\\nNURSE.\\r\\n\\n\\nO holy Friar, O, tell me, holy Friar,\\r\\n\\n\\nWhere is my lady’s lord, where’s Romeo?\\r\\n\\n\\n\\r\\n\\n\\nFRIAR LAWRENCE.\\r\\n\\n\\nThere on the ground, with his own tears made drunk.\\r\\n\\n\\n\\r\\n\\n\\nNURSE.\\r\\n\\n\\nO, he is even in my mistress’ case.\\r\\n\\n\\nJust in her case! O woeful sympathy!\\r\\n\\n\\nPiteous predicament. Even so lies she,\\r\\n\\n\\nBlubbering and weeping, weeping and blubbering.\\r\\n\\n\\nStand up, stand up; stand, and you be a man.\\r\\n\\n\\nFor Juliet’s sake, for her sake, rise and stand.\\r\\n\\n\\nWhy should you fall into so deep an O?\\r\\n\\n\\n\\r\\n\\n\\nROMEO.\\r\\n\\n\\nNurse.\\r\\n\\n\\n\\r\\n\\n\\nNURSE.\\r\\n\\n\\nAh sir, ah sir, death’s the end of all.\\r\\n\\n\\n\\r\\n\\n\\nROMEO.\\r\\n\\n\\nSpakest thou of Juliet? How is it with her?\\r\\n\\n\\nDoth not she think me an old murderer,\\r\\n\\n\\nNow I have stain’d the childhood of our joy\\r\\n\\n\\nWith blood remov’d but little from her own?\\r\\n\\n\\nWhere is she? And how doth she? And what says\\r\\n\\n\\nMy conceal’d lady to our cancell’d love?\\r\\n\\n\\n\\r\\n\\n\\nNURSE.\\r\\n\\n\\nO, she says nothing, sir, but weeps and weeps;\\r\\n\\n\\nAnd now falls on her bed, and then starts up,\\r\\n\\n\\nAnd Tybalt calls, and then on Romeo cries,\\r\\n\\n\\nAnd then down falls again.\\r\\n\\n\\n\\r\\n\\n\\nROMEO.\\r\\n\\n\\nAs if that name,\\r\\n\\n\\nShot from the deadly level of a gun,\\r\\n\\n\\nDid murder her, as that name’s cursed hand\\r\\n\\n\\nMurder’d her kinsman.', metadata={'source': 'https://www.gutenberg.org/cache/epub/1513/pg1513.txt'}),\n",
              " Document(page_content='all have the chinks.\\r\\n\\n\\n\\r\\n\\n\\nROMEO.\\r\\n\\n\\nIs she a Capulet?\\r\\n\\n\\nO dear account! My life is my foe’s debt.\\r\\n\\n\\n\\r\\n\\n\\nBENVOLIO.\\r\\n\\n\\nAway, be gone; the sport is at the best.\\r\\n\\n\\n\\r\\n\\n\\nROMEO.\\r\\n\\n\\nAy, so I fear; the more is my unrest.\\r\\n\\n\\n\\r\\n\\n\\nCAPULET.\\r\\n\\n\\nNay, gentlemen, prepare not to be gone,\\r\\n\\n\\nWe have a trifling foolish banquet towards.\\r\\n\\n\\nIs it e’en so? Why then, I thank you all;\\r\\n\\n\\nI thank you, honest gentlemen; good night.\\r\\n\\n\\nMore torches here! Come on then, let’s to bed.\\r\\n\\n\\nAh, sirrah, by my fay, it waxes late,\\r\\n\\n\\nI’ll to my rest.\\r\\n\\n\\n\\r\\n\\n\\n [_Exeunt all but Juliet and Nurse._]\\r\\n\\n\\n\\r\\n\\n\\nJULIET.\\r\\n\\n\\nCome hither, Nurse. What is yond gentleman?\\r\\n\\n\\n\\r\\n\\n\\nNURSE.\\r\\n\\n\\nThe son and heir of old Tiberio.\\r\\n\\n\\n\\r\\n\\n\\nJULIET.\\r\\n\\n\\nWhat’s he that now is going out of door?\\r\\n\\n\\n\\r\\n\\n\\nNURSE.\\r\\n\\n\\nMarry, that I think be young Petruchio.\\r\\n\\n\\n\\r\\n\\n\\nJULIET.\\r\\n\\n\\nWhat’s he that follows here, that would not dance?\\r\\n\\n\\n\\r\\n\\n\\nNURSE.\\r\\n\\n\\nI know not.\\r\\n\\n\\n\\r\\n\\n\\nJULIET.\\r\\n\\n\\nGo ask his name. If he be married,\\r\\n\\n\\nMy grave is like to be my wedding bed.\\r\\n\\n\\n\\r\\n\\n\\nNURSE.\\r\\n\\n\\nHis name is Romeo, and a Montague,\\r\\n\\n\\nThe only son of your great enemy.\\r\\n\\n\\n\\r\\n\\n\\nJULIET.\\r\\n\\n\\nMy only love sprung from my only hate!\\r\\n\\n\\nToo early seen unknown, and known too late!\\r\\n\\n\\nProdigious birth of love it is to me,\\r\\n\\n\\nThat I must love a loathed enemy.\\r\\n\\n\\n\\r\\n\\n\\nNURSE.\\r\\n\\n\\nWhat’s this? What’s this?\\r\\n\\n\\n\\r\\n\\n\\nJULIET.\\r\\n\\n\\nA rhyme I learn’d even now\\r\\n\\n\\nOf one I danc’d withal.\\r\\n\\n\\n\\r\\n\\n\\n [_One calls within, ‘Juliet’._]\\r\\n\\n\\n\\r\\n\\n\\nNURSE.\\r\\n\\n\\nAnon, anon!\\r\\n\\n\\nCome let’s away, the strangers all are gone.\\r\\n\\n\\n\\r\\n\\n\\n [_Exeunt._]\\r\\n\\n\\n\\r\\n\\n\\n\\r\\n\\n\\n\\r\\n\\n\\nACT II\\r\\n\\n\\n\\r\\n\\n\\n Enter Chorus.\\r\\n\\n\\n\\r\\n\\n\\nCHORUS.\\r\\n\\n\\nNow old desire doth in his deathbed lie,\\r\\n\\n\\nAnd young affection gapes to be his heir;\\r\\n\\n\\nThat fair for which love groan’d for and would die,\\r\\n\\n\\nWith tender Juliet match’d, is now not fair.\\r\\n\\n\\nNow Romeo is belov’d, and loves again,\\r\\n\\n\\nAlike bewitched by the charm of looks;\\r\\n\\n\\nBut to his foe suppos’d he must complain,\\r\\n\\n\\nAnd she steal love’s sweet bait from fearful hooks:\\r\\n\\n\\nBeing held a foe, he may not have access\\r\\n\\n\\nTo breathe such vows as lovers use to swear;\\r\\n\\n\\nAnd she as much in love, her means much less\\r\\n\\n\\nTo meet her new beloved anywhere.\\r\\n\\n\\nBut passion lends them power, time means, to meet,\\r\\n\\n\\nTempering extremities with extreme sweet.\\r\\n\\n\\n\\r\\n\\n\\n [_Exit._]\\r\\n\\n\\n\\r\\n\\n\\nSCENE I. An open place adjoining Capulet’s Garden.\\r\\n\\n\\n\\r\\n\\n\\n Enter Romeo.\\r\\n\\n\\n\\r\\n\\n\\nROMEO.\\r\\n\\n\\nCan I go forward when my heart is here?\\r\\n\\n\\nTurn back, dull earth, and find thy centre out.\\r\\n\\n\\n\\r\\n\\n\\n [_He climbs the wall and leaps down within it._]\\r\\n\\n\\n\\r\\n\\n\\n Enter Benvolio and Mercutio.\\r\\n\\n\\n\\r\\n\\n\\nBENVOLIO.\\r\\n\\n\\nRomeo! My cousin Romeo', metadata={'source': 'https://www.gutenberg.org/cache/epub/1513/pg1513.txt'}),\n",
              " Document(page_content='all have the chinks.\\r\\n\\n\\n\\r\\n\\n\\nROMEO.\\r\\n\\n\\nIs she a Capulet?\\r\\n\\n\\nO dear account! My life is my foe’s debt.\\r\\n\\n\\n\\r\\n\\n\\nBENVOLIO.\\r\\n\\n\\nAway, be gone; the sport is at the best.\\r\\n\\n\\n\\r\\n\\n\\nROMEO.\\r\\n\\n\\nAy, so I fear; the more is my unrest.\\r\\n\\n\\n\\r\\n\\n\\nCAPULET.\\r\\n\\n\\nNay, gentlemen, prepare not to be gone,\\r\\n\\n\\nWe have a trifling foolish banquet towards.\\r\\n\\n\\nIs it e’en so? Why then, I thank you all;\\r\\n\\n\\nI thank you, honest gentlemen; good night.\\r\\n\\n\\nMore torches here! Come on then, let’s to bed.\\r\\n\\n\\nAh, sirrah, by my fay, it waxes late,\\r\\n\\n\\nI’ll to my rest.\\r\\n\\n\\n\\r\\n\\n\\n [_Exeunt all but Juliet and Nurse._]\\r\\n\\n\\n\\r\\n\\n\\nJULIET.\\r\\n\\n\\nCome hither, Nurse. What is yond gentleman?\\r\\n\\n\\n\\r\\n\\n\\nNURSE.\\r\\n\\n\\nThe son and heir of old Tiberio.\\r\\n\\n\\n\\r\\n\\n\\nJULIET.\\r\\n\\n\\nWhat’s he that now is going out of door?\\r\\n\\n\\n\\r\\n\\n\\nNURSE.\\r\\n\\n\\nMarry, that I think be young Petruchio.\\r\\n\\n\\n\\r\\n\\n\\nJULIET.\\r\\n\\n\\nWhat’s he that follows here, that would not dance?\\r\\n\\n\\n\\r\\n\\n\\nNURSE.\\r\\n\\n\\nI know not.\\r\\n\\n\\n\\r\\n\\n\\nJULIET.\\r\\n\\n\\nGo ask his name. If he be married,\\r\\n\\n\\nMy grave is like to be my wedding bed.\\r\\n\\n\\n\\r\\n\\n\\nNURSE.\\r\\n\\n\\nHis name is Romeo, and a Montague,\\r\\n\\n\\nThe only son of your great enemy.\\r\\n\\n\\n\\r\\n\\n\\nJULIET.\\r\\n\\n\\nMy only love sprung from my only hate!\\r\\n\\n\\nToo early seen unknown, and known too late!\\r\\n\\n\\nProdigious birth of love it is to me,\\r\\n\\n\\nThat I must love a loathed enemy.\\r\\n\\n\\n\\r\\n\\n\\nNURSE.\\r\\n\\n\\nWhat’s this? What’s this?\\r\\n\\n\\n\\r\\n\\n\\nJULIET.\\r\\n\\n\\nA rhyme I learn’d even now\\r\\n\\n\\nOf one I danc’d withal.\\r\\n\\n\\n\\r\\n\\n\\n [_One calls within, ‘Juliet’._]\\r\\n\\n\\n\\r\\n\\n\\nNURSE.\\r\\n\\n\\nAnon, anon!\\r\\n\\n\\nCome let’s away, the strangers all are gone.\\r\\n\\n\\n\\r\\n\\n\\n [_Exeunt._]\\r\\n\\n\\n\\r\\n\\n\\n\\r\\n\\n\\n\\r\\n\\n\\nACT II\\r\\n\\n\\n\\r\\n\\n\\n Enter Chorus.\\r\\n\\n\\n\\r\\n\\n\\nCHORUS.\\r\\n\\n\\nNow old desire doth in his deathbed lie,\\r\\n\\n\\nAnd young affection gapes to be his heir;\\r\\n\\n\\nThat fair for which love groan’d for and would die,\\r\\n\\n\\nWith tender Juliet match’d, is now not fair.\\r\\n\\n\\nNow Romeo is belov’d, and loves again,\\r\\n\\n\\nAlike bewitched by the charm of looks;\\r\\n\\n\\nBut to his foe suppos’d he must complain,\\r\\n\\n\\nAnd she steal love’s sweet bait from fearful hooks:\\r\\n\\n\\nBeing held a foe, he may not have access\\r\\n\\n\\nTo breathe such vows as lovers use to swear;\\r\\n\\n\\nAnd she as much in love, her means much less\\r\\n\\n\\nTo meet her new beloved anywhere.\\r\\n\\n\\nBut passion lends them power, time means, to meet,\\r\\n\\n\\nTempering extremities with extreme sweet.\\r\\n\\n\\n\\r\\n\\n\\n [_Exit._]\\r\\n\\n\\n\\r\\n\\n\\nSCENE I. An open place adjoining Capulet’s Garden.\\r\\n\\n\\n\\r\\n\\n\\n Enter Romeo.\\r\\n\\n\\n\\r\\n\\n\\nROMEO.\\r\\n\\n\\nCan I go forward when my heart is here?\\r\\n\\n\\nTurn back, dull earth, and find thy centre out.\\r\\n\\n\\n\\r\\n\\n\\n [_He climbs the wall and leaps down within it._]\\r\\n\\n\\n\\r\\n\\n\\n Enter Benvolio and Mercutio.\\r\\n\\n\\n\\r\\n\\n\\nBENVOLIO.\\r\\n\\n\\nRomeo! My cousin Romeo', metadata={'source': 'https://www.gutenberg.org/cache/epub/1513/pg1513.txt'})]"
            ]
          },
          "metadata": {},
          "execution_count": 182
        }
      ]
    },
    {
      "cell_type": "code",
      "source": [
        "result[\"answer\"]"
      ],
      "metadata": {
        "colab": {
          "base_uri": "https://localhost:8080/",
          "height": 88
        },
        "id": "DuCV56Nuv3lG",
        "outputId": "2f686592-4955-4c20-cde4-9020eea31a04"
      },
      "execution_count": null,
      "outputs": [
        {
          "output_type": "execute_result",
          "data": {
            "text/plain": [
              "\"There is no clear indication in the text that Romeo and Juliet spent the night together. In Act II, Scene 2, Romeo climbs over the Capulet's garden wall and enters the garden where he sees Juliet on her balcony. They exchange vows of love and plan to marry, but there is no mention of them spending the night together. Later in Act III, Scene 5, Juliet's mother urges her to marry Paris, and Juliet refuses, stating that she is already married to Romeo. This suggests that they did indeed marry, but again, there is no mention of them spending the night together. Overall, the text is ambiguous on this point and leaves it up to interpretation.\""
            ],
            "application/vnd.google.colaboratory.intrinsic+json": {
              "type": "string"
            }
          },
          "metadata": {},
          "execution_count": 183
        }
      ]
    },
    {
      "cell_type": "code",
      "source": [],
      "metadata": {
        "id": "AJMUgnY5hq3V"
      },
      "execution_count": null,
      "outputs": []
    }
  ]
}